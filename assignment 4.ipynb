{
 "cells": [
  {
   "cell_type": "code",
   "execution_count": null,
   "id": "4cf4b9e2",
   "metadata": {},
   "outputs": [],
   "source": [
    "Write a Python program to create a lambda function that adds 25 to a given number passed in as an argument.\n",
    "\n",
    "\n",
    "\n",
    "sample input: 10\n",
    "\n",
    "sample output: 35"
   ]
  },
  {
   "cell_type": "code",
   "execution_count": 20,
   "id": "c976b74f",
   "metadata": {},
   "outputs": [],
   "source": [
    "add=lambda x,y=25:x+y"
   ]
  },
  {
   "cell_type": "code",
   "execution_count": 22,
   "id": "bf6b0ec5",
   "metadata": {},
   "outputs": [
    {
     "name": "stdout",
     "output_type": "stream",
     "text": [
      "35\n"
     ]
    }
   ],
   "source": [
    "print(add(10))"
   ]
  },
  {
   "cell_type": "code",
   "execution_count": null,
   "id": "5c7883c7",
   "metadata": {},
   "outputs": [],
   "source": [
    "Write a Python program to triple all numbers of a given list of integers. Use Python map.\n",
    "\n",
    "\n",
    "\n",
    "sample list: [1, 2, 3, 4, 5, 6, 7]\n",
    "\n",
    "\n",
    "\n",
    "Triple of list numbers:\n",
    "\n",
    "[3, 6, 9, 12, 15, 18, 21]"
   ]
  },
  {
   "cell_type": "code",
   "execution_count": 65,
   "id": "631d9ccd",
   "metadata": {},
   "outputs": [],
   "source": [
    "lis= [1, 2, 3, 4, 5, 6, 7]\n"
   ]
  },
  {
   "cell_type": "code",
   "execution_count": 66,
   "id": "338dc749",
   "metadata": {},
   "outputs": [
    {
     "name": "stdout",
     "output_type": "stream",
     "text": [
      "[3, 6, 9, 12, 15, 18, 21]\n"
     ]
    }
   ],
   "source": [
    "print(list(map(lambda v:(v*3),lis)))"
   ]
  },
  {
   "cell_type": "code",
   "execution_count": null,
   "id": "3ddf5a83",
   "metadata": {},
   "outputs": [],
   "source": [
    "Write a Python program to square the elements of a list using map() function.\n",
    "\n",
    "\n",
    "\n",
    "Sample List: [4, 5, 2, 9]\n",
    "\n",
    "Square the elements of the list:\n",
    "\n",
    "[16, 25, 4, 81]"
   ]
  },
  {
   "cell_type": "code",
   "execution_count": 81,
   "id": "9a3ecbf1",
   "metadata": {},
   "outputs": [],
   "source": [
    "l= [4, 5, 2, 9]"
   ]
  },
  {
   "cell_type": "code",
   "execution_count": 84,
   "id": "8289bbc4",
   "metadata": {},
   "outputs": [
    {
     "name": "stdout",
     "output_type": "stream",
     "text": [
      "[16, 25, 4, 81]\n"
     ]
    }
   ],
   "source": [
    "print(list(map(lambda i:(i**2),l)))"
   ]
  },
  {
   "cell_type": "code",
   "execution_count": null,
   "id": "77f4fa93",
   "metadata": {},
   "outputs": [],
   "source": []
  }
 ],
 "metadata": {
  "kernelspec": {
   "display_name": "Python 3 (ipykernel)",
   "language": "python",
   "name": "python3"
  },
  "language_info": {
   "codemirror_mode": {
    "name": "ipython",
    "version": 3
   },
   "file_extension": ".py",
   "mimetype": "text/x-python",
   "name": "python",
   "nbconvert_exporter": "python",
   "pygments_lexer": "ipython3",
   "version": "3.10.2"
  }
 },
 "nbformat": 4,
 "nbformat_minor": 5
}
